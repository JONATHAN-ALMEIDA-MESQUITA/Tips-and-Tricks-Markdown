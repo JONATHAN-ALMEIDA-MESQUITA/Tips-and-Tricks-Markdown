{
 "cells": [
  {
   "cell_type": "markdown",
   "id": "bf5b0a2a-e161-4ff2-b250-f4c7a80e8078",
   "metadata": {},
   "source": [
    "### 1. Cabeçalhos\n",
    "\n",
    "Use # para criar cabeçalhos de diferentes níveis. Mais # significam um cabeçalho menor"
   ]
  },
  {
   "cell_type": "code",
   "execution_count": null,
   "id": "1867841b-7190-424b-b029-b8c62c665b89",
   "metadata": {},
   "outputs": [],
   "source": [
    "# Título de Nível 1\n",
    "## Título de Nível 2\n",
    "### Título de Nível 3\n",
    "#### Título de Nível 4"
   ]
  },
  {
   "cell_type": "markdown",
   "id": "8c11e5cc-6829-44ba-985f-60d58165d921",
   "metadata": {},
   "source": [
    "# Título de Nível 1\n",
    "## Título de Nível 2\n",
    "### Título de Nível 3\n",
    "#### Título de Nível 4"
   ]
  },
  {
   "cell_type": "markdown",
   "id": "5c144c9f-d533-414d-b054-3e2930f7597d",
   "metadata": {},
   "source": [
    "### 2. Ênfase de Texto"
   ]
  },
  {
   "cell_type": "code",
   "execution_count": null,
   "id": "b5caea74-e12b-48cb-a132-af4514070dd1",
   "metadata": {},
   "outputs": [],
   "source": [
    "Negrito: Use **texto** ou __texto__\n",
    "Itálico: Use *texto* ou _texto_\n",
    "Tachado: Use ~~texto~~"
   ]
  },
  {
   "cell_type": "markdown",
   "id": "7d06fd2c-6075-4fd8-96a2-a9909b4a9297",
   "metadata": {},
   "source": [
    "Negrito: Use **texto** ou __texto__\n",
    "\n",
    "Itálico: Use *texto* ou _texto_\n",
    "\n",
    "Tachado: Use ~~texto~~"
   ]
  },
  {
   "cell_type": "markdown",
   "id": "d46e76b3-ab48-495f-a89c-04a21634639e",
   "metadata": {},
   "source": [
    "### 3. Listas\n",
    "Listas Não Ordenadas: Use -, + ou * "
   ]
  },
  {
   "cell_type": "code",
   "execution_count": null,
   "id": "763ee8a4-c822-45f3-a3a7-fda7c227b971",
   "metadata": {},
   "outputs": [],
   "source": [
    "- Item 1\n",
    "+ Item 2\n",
    "  * Subitem 2.1"
   ]
  },
  {
   "cell_type": "markdown",
   "id": "e4e25953-40ca-4235-9cd1-8fde955b0329",
   "metadata": {},
   "source": [
    "- Item 1\n",
    "+ Item 2\n",
    "  * Subitem 2."
   ]
  },
  {
   "cell_type": "markdown",
   "id": "c37fc852-8444-4b5a-ac7e-6b09b91a2db8",
   "metadata": {},
   "source": [
    "### 3. Listas\n",
    "Listas Ordenadas: Use números seguidos de ponto."
   ]
  },
  {
   "cell_type": "code",
   "execution_count": null,
   "id": "60368e06-6eed-47c5-9b40-4170330b4b78",
   "metadata": {},
   "outputs": [],
   "source": [
    "1. Primeiro item\n",
    "2. Segundo item\n",
    "   1. Subitem 2.1"
   ]
  },
  {
   "cell_type": "markdown",
   "id": "c47b01c5-1a02-4dc2-b9f1-4a062e383fe2",
   "metadata": {},
   "source": [
    "1. Primeiro item\n",
    "2. Segundo item\n",
    "   1. Subitem 2.1"
   ]
  },
  {
   "cell_type": "markdown",
   "id": "074cc2f9-526b-46d5-83d8-a963bbbf7323",
   "metadata": {},
   "source": [
    "### 4. Links e Imagens"
   ]
  },
  {
   "cell_type": "code",
   "execution_count": null,
   "id": "51854b3f-f33e-433a-a6a0-d4b52dca5070",
   "metadata": {},
   "outputs": [],
   "source": [
    "Links: [Texto do Link](URL)\n",
    "\n",
    "Imagens: ![Texto Alternativo](URL_da_Imagem)"
   ]
  },
  {
   "cell_type": "markdown",
   "id": "d2341b92-a7ee-4f48-8f6b-62340ff75386",
   "metadata": {},
   "source": [
    "[Jonathan_mesquita_linkedin](https://www.linkedin.com/in/jonathan-mesquita-3049581b1/)"
   ]
  },
  {
   "cell_type": "markdown",
   "id": "8b668c63-c4b5-433a-bad6-65c6e9da7ae7",
   "metadata": {},
   "source": [
    "![Jupyter](https://s3-ap-south-1.amazonaws.com/av-blog-media/wp-content/uploads/2018/04/jupyter.png)"
   ]
  },
  {
   "cell_type": "markdown",
   "id": "6fd08adb-3f09-459a-a58c-c05af651fd35",
   "metadata": {},
   "source": [
    "### 5. Blocos de Código\n",
    "\n",
    "Inline: Use crase simples `código`\n",
    "\n",
    "Blocos de Código: Use três crases ```"
   ]
  },
  {
   "cell_type": "code",
   "execution_count": null,
   "id": "12a0f539-3eb6-4ce4-9b6f-64466e9b94a1",
   "metadata": {},
   "outputs": [],
   "source": [
    "```python\n",
    "def funcao():\n",
    "    return \"Olá Mundo\""
   ]
  },
  {
   "cell_type": "markdown",
   "id": "d98a17c3-8da6-4983-99c5-0659efeba0b9",
   "metadata": {},
   "source": [
    "```python\n",
    "def funcao():\n",
    "    return \"Olá Mundo\""
   ]
  },
  {
   "cell_type": "markdown",
   "id": "a967a969-ced3-4171-966f-9800193ab42e",
   "metadata": {},
   "source": [
    "### 6. Tabelas\n",
    "\n",
    "Você pode criar tabelas usando | e - para separar colunas e linhas."
   ]
  },
  {
   "cell_type": "code",
   "execution_count": null,
   "id": "9a5bb4b7-579d-4412-9a59-63680caa73a2",
   "metadata": {},
   "outputs": [],
   "source": [
    "| Coluna 1 | Coluna 2 | Coluna 3 |\n",
    "|----------|----------|----------|\n",
    "| Linha 1  | Valor 1  | Valor 2  |\n",
    "| Linha 2  | Valor 3  | Valor 4  |"
   ]
  },
  {
   "cell_type": "markdown",
   "id": "0a7d9872-cbe1-4211-b453-f0bfb31ccf4c",
   "metadata": {},
   "source": [
    "| Coluna 1 | Coluna 2 | Coluna 3 |\n",
    "|----------|----------|----------|\n",
    "| Linha 1  | Valor 1  | Valor 2  |\n",
    "| Linha 2  | Valor 3  | Valor 4  |"
   ]
  },
  {
   "cell_type": "markdown",
   "id": "e0c9a395-1a72-4ad9-8385-8710b2f3a4fa",
   "metadata": {},
   "source": [
    "### 7. Citações\n",
    "Para adicionar uma citação, use > no início da linha."
   ]
  },
  {
   "cell_type": "code",
   "execution_count": null,
   "id": "8604b60a-750b-48c5-98aa-f382ba9a0c04",
   "metadata": {},
   "outputs": [],
   "source": [
    "> Esta é uma citação.\n",
    "\n",
    "> Esta é uma citação."
   ]
  },
  {
   "cell_type": "markdown",
   "id": "11b53436-26b2-47d4-a191-002e9517651c",
   "metadata": {},
   "source": [
    "> Esta é uma citação.\n",
    "\n",
    "> Esta é uma citação."
   ]
  },
  {
   "cell_type": "markdown",
   "id": "2d58d7fa-f480-48e7-af59-53d289249d2c",
   "metadata": {},
   "source": [
    "### 8. Linhas Horizontais\n",
    "Para adicionar uma linha horizontal, use três ou mais --- ou ***."
   ]
  },
  {
   "cell_type": "code",
   "execution_count": null,
   "id": "d4e02ec7-35bc-4056-84a5-9804c0afbc21",
   "metadata": {},
   "outputs": [],
   "source": [
    "---\n",
    "Exemplo 1\n",
    "\n",
    "---\n",
    "Exemplo 2"
   ]
  },
  {
   "cell_type": "markdown",
   "id": "acba2d4f-39a4-41a0-9447-9550f68b2c57",
   "metadata": {},
   "source": [
    "---\n",
    "Exemplo 1\n",
    "\n",
    "---\n",
    "Exemplo 2"
   ]
  },
  {
   "cell_type": "markdown",
   "id": "802fa99e-af42-49b7-9f7e-08bd7f4c3db4",
   "metadata": {},
   "source": [
    "### 9. Equações Matemáticas\n",
    "Você pode usar LaTeX para escrever equações matemáticas:\n",
    "\n",
    "$E = mc^2$"
   ]
  },
  {
   "cell_type": "code",
   "execution_count": null,
   "id": "51650d31-4f20-4d13-b996-c9cab10275aa",
   "metadata": {},
   "outputs": [],
   "source": [
    "$$ \n",
    "E = mc^2 \n",
    "$$\n",
    "\n",
    "$$ \n",
    "a2+b2=c2\n",
    "$$\n"
   ]
  },
  {
   "cell_type": "markdown",
   "id": "58f6d51b-654c-4752-9464-838c085393ab",
   "metadata": {},
   "source": [
    "$$ \n",
    "E = mc^2 \n",
    "$$\n",
    "---\n",
    "$$ \n",
    "a2+b2=c2\n",
    "$$"
   ]
  },
  {
   "cell_type": "markdown",
   "id": "da87396e-db3e-444b-991f-480c16a81ac7",
   "metadata": {},
   "source": [
    "### 10. Colapsar Detalhes\n",
    "Você pode criar uma célula que expande e colapsa detalhes usando HTML:"
   ]
  },
  {
   "cell_type": "code",
   "execution_count": null,
   "id": "855deb13-f3df-4516-9208-4867858fbd57",
   "metadata": {},
   "outputs": [],
   "source": [
    "<details>\r\n",
    "  <summary>Clique para expandir!</summary>\r\n",
    "  <p>Aqui estão mais detalhes!</p>\r\n",
    "</detais>\r\n"
   ]
  },
  {
   "cell_type": "markdown",
   "id": "10e9c6b1-ca32-447d-a202-7ae1da9799e9",
   "metadata": {},
   "source": [
    "<details>\n",
    "  <summary>Clique para expandir!</summary>\n",
    "  <p>Aqui estão mais detalhes!</p>\n",
    "</details>\n"
   ]
  },
  {
   "cell_type": "markdown",
   "id": "928aef90-023d-43c6-9653-4054afeb92a1",
   "metadata": {},
   "source": [
    "<details>\n",
    "  <summary>Clique para expandir!</summary>\n",
    "  <p>Aqui estão mais detalhes!</p>\n",
    "</detais>\n"
   ]
  },
  {
   "cell_type": "code",
   "execution_count": null,
   "id": "381801a0-b8c1-421c-a6e4-c1c7d7b45b43",
   "metadata": {},
   "outputs": [],
   "source": []
  }
 ],
 "metadata": {
  "kernelspec": {
   "display_name": "Python 3 (ipykernel)",
   "language": "python",
   "name": "python3"
  },
  "language_info": {
   "codemirror_mode": {
    "name": "ipython",
    "version": 3
   },
   "file_extension": ".py",
   "mimetype": "text/x-python",
   "name": "python",
   "nbconvert_exporter": "python",
   "pygments_lexer": "ipython3",
   "version": "3.12.4"
  }
 },
 "nbformat": 4,
 "nbformat_minor": 5
}
